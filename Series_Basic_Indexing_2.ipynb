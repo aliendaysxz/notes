{
  "nbformat": 4,
  "nbformat_minor": 0,
  "metadata": {
    "colab": {
      "provenance": [],
      "authorship_tag": "ABX9TyM+dOX6MUoW8D8eGMsr8VQV",
      "include_colab_link": true
    },
    "kernelspec": {
      "name": "python3",
      "display_name": "Python 3"
    },
    "language_info": {
      "name": "python"
    }
  },
  "cells": [
    {
      "cell_type": "markdown",
      "metadata": {
        "id": "view-in-github",
        "colab_type": "text"
      },
      "source": [
        "<a href=\"https://colab.research.google.com/github/aliendaysxz/notes/blob/main/Series_Basic_Indexing_2.ipynb\" target=\"_parent\"><img src=\"https://colab.research.google.com/assets/colab-badge.svg\" alt=\"Open In Colab\"/></a>"
      ]
    },
    {
      "cell_type": "code",
      "execution_count": 3,
      "metadata": {
        "id": "hTUpUXv5PJFo"
      },
      "outputs": [],
      "source": [
        "import numpy as np\n",
        "import pandas as pd"
      ]
    },
    {
      "cell_type": "code",
      "source": [
        "foo = pd.Series([2, 3, 5, 7, 11], index=[2, 4, 6, 8, 10])\n",
        "print(foo,'foo\\n')\n",
        "bar = np.array([5, 10, 15, 20, 25])\n",
        "print(bar,'bar\\n')"
      ],
      "metadata": {
        "colab": {
          "base_uri": "https://localhost:8080/"
        },
        "id": "to6C3woJQkfM",
        "outputId": "b9fc61df-0ba8-4a47-9748-101e1b44abda"
      },
      "execution_count": 5,
      "outputs": [
        {
          "output_type": "stream",
          "name": "stdout",
          "text": [
            "2      2\n",
            "4      3\n",
            "6      5\n",
            "8      7\n",
            "10    11\n",
            "dtype: int64 foo\n",
            "\n",
            "[ 5 10 15 20 25] bar\n",
            "\n"
          ]
        }
      ]
    },
    {
      "cell_type": "code",
      "source": [
        "foo.iloc[:] = bar\n",
        "foo"
      ],
      "metadata": {
        "colab": {
          "base_uri": "https://localhost:8080/"
        },
        "id": "lxLftdO1Qtqy",
        "outputId": "40a0b5a6-c779-421c-839b-2e1ff38ebfb9"
      },
      "execution_count": 8,
      "outputs": [
        {
          "output_type": "execute_result",
          "data": {
            "text/plain": [
              "2      5\n",
              "4     10\n",
              "6     15\n",
              "8     20\n",
              "10    25\n",
              "dtype: int64"
            ]
          },
          "metadata": {},
          "execution_count": 8
        }
      ]
    },
    {
      "cell_type": "code",
      "source": [
        "x = pd.Series([10, 20, 30, 40])\n",
        "print(x,'x\\n')\n",
        "y = pd.Series([1, 11, 111, 1111], index=[7,3,2,0])\n",
        "print(y,'y\\n')"
      ],
      "metadata": {
        "colab": {
          "base_uri": "https://localhost:8080/"
        },
        "id": "u5_QVnOAQnOf",
        "outputId": "953d27bf-cb06-4071-f1d7-819cbb3db840"
      },
      "execution_count": 6,
      "outputs": [
        {
          "output_type": "stream",
          "name": "stdout",
          "text": [
            "0    10\n",
            "1    20\n",
            "2    30\n",
            "3    40\n",
            "dtype: int64 x\n",
            "\n",
            "7       1\n",
            "3      11\n",
            "2     111\n",
            "0    1111\n",
            "dtype: int64 y\n",
            "\n"
          ]
        }
      ]
    },
    {
      "cell_type": "code",
      "source": [
        "x.loc[[0,1]] = y\n",
        "x"
      ],
      "metadata": {
        "colab": {
          "base_uri": "https://localhost:8080/"
        },
        "id": "FJf13THYQ3Mk",
        "outputId": "41be7b6e-5464-435c-f217-5ce2cfc3e7f8"
      },
      "execution_count": 9,
      "outputs": [
        {
          "output_type": "execute_result",
          "data": {
            "text/plain": [
              "0    1111.0\n",
              "1       NaN\n",
              "2      30.0\n",
              "3      40.0\n",
              "dtype: float64"
            ]
          },
          "metadata": {},
          "execution_count": 9
        }
      ]
    },
    {
      "cell_type": "code",
      "source": [
        "y.to_numpy()"
      ],
      "metadata": {
        "colab": {
          "base_uri": "https://localhost:8080/"
        },
        "id": "DtUS5_wiTFlF",
        "outputId": "7733e3eb-ae29-4347-b670-7086a2e2b57c"
      },
      "execution_count": 10,
      "outputs": [
        {
          "output_type": "execute_result",
          "data": {
            "text/plain": [
              "array([   1,   11,  111, 1111])"
            ]
          },
          "metadata": {},
          "execution_count": 10
        }
      ]
    },
    {
      "cell_type": "code",
      "source": [
        "x.loc[[0, 1]] = y.to_numpy()[:2]\n",
        "x"
      ],
      "metadata": {
        "colab": {
          "base_uri": "https://localhost:8080/"
        },
        "id": "hc2ASp0dTJJB",
        "outputId": "326fd2ac-e059-44eb-fb34-c2855a83cd4a"
      },
      "execution_count": 12,
      "outputs": [
        {
          "output_type": "execute_result",
          "data": {
            "text/plain": [
              "0     1.0\n",
              "1    11.0\n",
              "2    30.0\n",
              "3    40.0\n",
              "dtype: float64"
            ]
          },
          "metadata": {},
          "execution_count": 12
        }
      ]
    }
  ]
}