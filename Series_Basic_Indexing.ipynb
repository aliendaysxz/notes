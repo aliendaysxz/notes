{
  "nbformat": 4,
  "nbformat_minor": 0,
  "metadata": {
    "colab": {
      "provenance": [],
      "authorship_tag": "ABX9TyPb/0vQvspBkodpkDmEsQY+",
      "include_colab_link": true
    },
    "kernelspec": {
      "name": "python3",
      "display_name": "Python 3"
    },
    "language_info": {
      "name": "python"
    }
  },
  "cells": [
    {
      "cell_type": "markdown",
      "metadata": {
        "id": "view-in-github",
        "colab_type": "text"
      },
      "source": [
        "<a href=\"https://colab.research.google.com/github/aliendaysxz/notes/blob/main/Series_Basic_Indexing.ipynb\" target=\"_parent\"><img src=\"https://colab.research.google.com/assets/colab-badge.svg\" alt=\"Open In Colab\"/></a>"
      ]
    },
    {
      "cell_type": "code",
      "execution_count": null,
      "metadata": {
        "colab": {
          "base_uri": "https://localhost:8080/"
        },
        "id": "V7Lq1Yot_r2z",
        "outputId": "e79e6d6b-cf83-46b4-eeb5-9dca772dc94a"
      },
      "outputs": [
        {
          "output_type": "stream",
          "name": "stdout",
          "text": [
            "0     5\n",
            "1    10\n",
            "2    15\n",
            "3    20\n",
            "4    25\n",
            "dtype: int64 a\n",
            "\n",
            "5 a[0]\n",
            "\n",
            "15 a[2]\n",
            "\n",
            "3     5\n",
            "1    10\n",
            "4    15\n",
            "0    20\n",
            "2    25\n",
            "dtype: int64 a\n",
            "\n",
            "20 a[0]\n",
            "\n",
            "25 a[2]\n",
            "\n",
            "5 b\n",
            "\n",
            "15 c\n",
            "\n",
            "25 d\n",
            "\n",
            "1    10\n",
            "0    20\n",
            "dtype: int64 e\n",
            "\n",
            "3     5\n",
            "4    15\n",
            "0    20\n",
            "dtype: int64 f\n",
            "\n",
            "0    82\n",
            "1    94\n",
            "2    77\n",
            "3    89\n",
            "4    91\n",
            "5    54\n",
            "dtype: int64 grades\n",
            "\n",
            "homer      82\n",
            "maggie     94\n",
            "grandpa    77\n",
            "bart       89\n",
            "lisa       91\n",
            "marge      54\n",
            "dtype: int64 \n",
            "\n",
            "grades.iloc[3] = 89\n",
            "grades.loc['bart'] = 89 \n",
            "\n",
            "homer      82\n",
            "maggie     94\n",
            "grandpa    77\n",
            "bart       89\n",
            "dtype: int64 \n",
            "\n",
            "homer      82\n",
            "maggie     94\n",
            "grandpa    77\n",
            "dtype: int64 \n",
            "\n",
            "0          0.947971\n",
            "1         -1.077581\n",
            "2         -0.903535\n",
            "3         -0.301845\n",
            "4         -0.316193\n",
            "             ...   \n",
            "9999995    1.074251\n",
            "9999996   -0.066230\n",
            "9999997   -0.101252\n",
            "9999998   -0.297773\n",
            "9999999   -0.536440\n",
            "Length: 10000000, dtype: float64 g\n",
            "\n",
            "RangeIndex(start=0, stop=10000000, step=1) \n",
            "\n",
            "0          0.749679\n",
            "1         -0.134760\n",
            "2          0.315692\n",
            "3          0.106732\n",
            "4          0.906445\n",
            "             ...   \n",
            "9999995    0.169907\n",
            "9999996    0.383862\n",
            "9999997   -0.473856\n",
            "9999998   -0.620783\n",
            "9999999    1.630310\n",
            "Length: 10000000, dtype: float64 h\n",
            "\n",
            "Int64Index([      0,       1,       2,       3,       4,       5,       6,\n",
            "                  7,       8,       9,\n",
            "            ...\n",
            "            9999990, 9999991, 9999992, 9999993, 9999994, 9999995, 9999996,\n",
            "            9999997, 9999998, 9999999],\n",
            "           dtype='int64', length=10000000) \n",
            "\n",
            "80000144\n",
            "160000016\n",
            "0     2\n",
            "0     3\n",
            "1     5\n",
            "1     7\n",
            "2    11\n",
            "dtype: int64 i\n",
            "\n",
            "0    2\n",
            "0    3\n",
            "dtype: int64 \n",
            "\n",
            "a    10\n",
            "b    20\n",
            "c    30\n",
            "d    40\n",
            "e    50\n",
            "dtype: int64 \n",
            "\n",
            "a     10\n",
            "b    200\n",
            "c     30\n",
            "d     40\n",
            "e     50\n",
            "dtype: int64 \n",
            "\n",
            "a     10\n",
            "b    220\n",
            "c     30\n",
            "d     40\n",
            "e     50\n",
            "dtype: int64 \n",
            "\n",
            "a    99\n",
            "b    99\n",
            "c    99\n",
            "d    40\n",
            "e    50\n",
            "dtype: int64 \n",
            "\n",
            "a    999\n",
            "b    999\n",
            "c    999\n",
            "d     40\n",
            "e     50\n",
            "dtype: int64 \n",
            "\n",
            "a    9999\n",
            "b    9999\n",
            "c    9999\n",
            "d      40\n",
            "e      50\n",
            "dtype: int64 \n",
            "\n"
          ]
        }
      ],
      "source": [
        "import pandas as pd\n",
        "import numpy as np\n",
        "import sys"
      ]
    },
    {
      "cell_type": "code",
      "source": [
        "a = pd.Series([5,10,15,20,25])\n",
        "print(a,'a\\n')\n",
        "print(a[0],'a[0]\\n')\n",
        "print(a[2],'a[2]\\n')"
      ],
      "metadata": {
        "colab": {
          "base_uri": "https://localhost:8080/"
        },
        "id": "Ly6O4M2B_93e",
        "outputId": "9945a57f-46eb-4326-a08f-d28b18132883"
      },
      "execution_count": null,
      "outputs": [
        {
          "output_type": "stream",
          "name": "stdout",
          "text": [
            "0     5\n",
            "1    10\n",
            "2    15\n",
            "3    20\n",
            "4    25\n",
            "dtype: int64 a\n",
            "\n",
            "5 a[0]\n",
            "\n",
            "15 a[2]\n",
            "\n"
          ]
        }
      ]
    },
    {
      "cell_type": "code",
      "source": [
        "a.index = [3,1,4,0,2]\n",
        "print(a,'a\\n')\n",
        "print(a[0],'a[0]\\n')\n",
        "print(a[2],'a[2]\\n')"
      ],
      "metadata": {
        "colab": {
          "base_uri": "https://localhost:8080/"
        },
        "id": "kHOgsyKoALhD",
        "outputId": "87d82d3b-6221-4ac8-d2c4-6507228fc792"
      },
      "execution_count": null,
      "outputs": [
        {
          "output_type": "stream",
          "name": "stdout",
          "text": [
            "3     5\n",
            "1    10\n",
            "4    15\n",
            "0    20\n",
            "2    25\n",
            "dtype: int64 a\n",
            "\n",
            "20 a[0]\n",
            "\n",
            "25 a[2]\n",
            "\n"
          ]
        }
      ]
    },
    {
      "cell_type": "code",
      "source": [
        "b = a.iloc[0]\n",
        "c = a.iloc[2]\n",
        "print(b,'b\\n')\n",
        "print(c,'c\\n')\n",
        "\n",
        "#     0           3          5\n",
        "#     1           1         10\n",
        "#     2           4         15\n",
        "#     3           0         20\n",
        "#     4           2         25\n",
        "\n",
        "# positions | index labels\n",
        "d = a.iloc[-1]\n",
        "print(d,'d\\n')\n",
        "\n",
        "e = a.iloc[1:4:2]\n",
        "print(e,'e\\n')\n",
        "\n",
        "f = a.iloc[[0,2,3]]\n",
        "print(f,'f\\n')\n"
      ],
      "metadata": {
        "colab": {
          "base_uri": "https://localhost:8080/"
        },
        "id": "9AiIfMtmAaMo",
        "outputId": "89fbca1f-6b39-4957-8e78-fabae06623f6"
      },
      "execution_count": null,
      "outputs": [
        {
          "output_type": "stream",
          "name": "stdout",
          "text": [
            "5 b\n",
            "\n",
            "15 c\n",
            "\n",
            "25 d\n",
            "\n",
            "1    10\n",
            "0    20\n",
            "dtype: int64 e\n",
            "\n",
            "3     5\n",
            "4    15\n",
            "0    20\n",
            "dtype: int64 f\n",
            "\n"
          ]
        }
      ]
    },
    {
      "cell_type": "code",
      "source": [
        "grades = pd.Series([82,94,77,89,91,54])\n",
        "print(grades,'grades\\n')\n",
        "\n",
        "grades.index = ['homer', 'maggie', 'grandpa', 'bart', 'lisa', 'marge']\n",
        "print(grades,'\\n')\n",
        "\n",
        "#print(\"grades['bart'] =\", grades['bart'], '\\n')\n",
        "\n",
        "print('grades.iloc[3] =', grades.iloc[3]) #index pos\n",
        "print(\"grades.loc['bart'] =\", grades.loc['bart'],'\\n'  ) #index labels\n",
        "print(grades.loc['homer' : 'bart'],'\\n')\n",
        "print(grades.iloc[0:3],'\\n')"
      ],
      "metadata": {
        "colab": {
          "base_uri": "https://localhost:8080/"
        },
        "id": "Ojo9T1cWAuGf",
        "outputId": "f04cc865-20dd-4c27-c22f-3b2d21fbd524"
      },
      "execution_count": null,
      "outputs": [
        {
          "output_type": "stream",
          "name": "stdout",
          "text": [
            "0    82\n",
            "1    94\n",
            "2    77\n",
            "3    89\n",
            "4    91\n",
            "5    54\n",
            "dtype: int64 grades\n",
            "\n",
            "homer      82\n",
            "maggie     94\n",
            "grandpa    77\n",
            "bart       89\n",
            "lisa       91\n",
            "marge      54\n",
            "dtype: int64 \n",
            "\n",
            "grades.iloc[3] = 89\n",
            "grades.loc['bart'] = 89 \n",
            "\n",
            "homer      82\n",
            "maggie     94\n",
            "grandpa    77\n",
            "bart       89\n",
            "dtype: int64 \n",
            "\n",
            "homer      82\n",
            "maggie     94\n",
            "grandpa    77\n",
            "dtype: int64 \n",
            "\n"
          ]
        }
      ]
    },
    {
      "cell_type": "code",
      "source": [
        "g = pd.Series(np.random.normal(size=10**7))\n",
        "print(g,'\\n')\n",
        "print(g.index)"
      ],
      "metadata": {
        "colab": {
          "base_uri": "https://localhost:8080/"
        },
        "id": "MbXKbwDJBDlX",
        "outputId": "f322a84f-f415-4c2e-c9ba-4cd0177eff32"
      },
      "execution_count": 11,
      "outputs": [
        {
          "output_type": "stream",
          "name": "stdout",
          "text": [
            "0          0.410963\n",
            "1          1.708036\n",
            "2         -1.734173\n",
            "3          0.346607\n",
            "4          1.662486\n",
            "             ...   \n",
            "9999995   -1.754616\n",
            "9999996    0.837890\n",
            "9999997    1.806260\n",
            "9999998    0.734602\n",
            "9999999    1.327272\n",
            "Length: 10000000, dtype: float64 \n",
            "\n",
            "RangeIndex(start=0, stop=10000000, step=1) \n",
            "\n"
          ]
        }
      ]
    },
    {
      "cell_type": "code",
      "source": [
        "h = pd.Series(np.random.normal(size=10**7), index = np.arange(10**7))\n",
        "print(h,'\\n')\n",
        "print(h.index)"
      ],
      "metadata": {
        "colab": {
          "base_uri": "https://localhost:8080/"
        },
        "id": "OQ6ZkmbRBI8R",
        "outputId": "c83d055e-2ef2-4a80-f1c5-e9e303e9c725"
      },
      "execution_count": 12,
      "outputs": [
        {
          "output_type": "stream",
          "name": "stdout",
          "text": [
            "0          0.336816\n",
            "1          1.429209\n",
            "2          0.697793\n",
            "3         -1.234920\n",
            "4         -0.963300\n",
            "             ...   \n",
            "9999995   -0.875729\n",
            "9999996   -0.836448\n",
            "9999997    1.620647\n",
            "9999998    1.327555\n",
            "9999999    0.768310\n",
            "Length: 10000000, dtype: float64 \n",
            "\n",
            "Int64Index([      0,       1,       2,       3,       4,       5,       6,\n",
            "                  7,       8,       9,\n",
            "            ...\n",
            "            9999990, 9999991, 9999992, 9999993, 9999994, 9999995, 9999996,\n",
            "            9999997, 9999998, 9999999],\n",
            "           dtype='int64', length=10000000) \n",
            "\n"
          ]
        }
      ]
    },
    {
      "cell_type": "code",
      "source": [
        "print(sys.getsizeof(g))\n",
        "print(sys.getsizeof(h))"
      ],
      "metadata": {
        "colab": {
          "base_uri": "https://localhost:8080/"
        },
        "id": "reYiK7_LB0wJ",
        "outputId": "ebcd7a66-9988-4092-d871-e1ff3bda0fc2"
      },
      "execution_count": 15,
      "outputs": [
        {
          "output_type": "stream",
          "name": "stdout",
          "text": [
            "80000144\n",
            "160000016\n"
          ]
        }
      ]
    },
    {
      "cell_type": "code",
      "source": [
        "i = pd.Series([2,3,5,7,11], index=[0,0,1,1,2])\n",
        "i"
      ],
      "metadata": {
        "colab": {
          "base_uri": "https://localhost:8080/"
        },
        "id": "wYd9-BBlCS6O",
        "outputId": "a1f5ca59-f95e-4d6c-c722-45a4bb0e75a2"
      },
      "execution_count": 19,
      "outputs": [
        {
          "output_type": "execute_result",
          "data": {
            "text/plain": [
              "0     2\n",
              "0     3\n",
              "1     5\n",
              "1     7\n",
              "2    11\n",
              "dtype: int64"
            ]
          },
          "metadata": {},
          "execution_count": 19
        }
      ]
    },
    {
      "cell_type": "code",
      "source": [
        "i.loc[0]"
      ],
      "metadata": {
        "colab": {
          "base_uri": "https://localhost:8080/"
        },
        "id": "00Ddhi-fChsr",
        "outputId": "02f93061-7db9-4bf8-b216-01dfc163c316"
      },
      "execution_count": 20,
      "outputs": [
        {
          "output_type": "execute_result",
          "data": {
            "text/plain": [
              "0    2\n",
              "0    3\n",
              "dtype: int64"
            ]
          },
          "metadata": {},
          "execution_count": 20
        }
      ]
    },
    {
      "cell_type": "code",
      "source": [
        "foo = pd.Series([10, 20, 30, 40, 50], index=['a', 'b', 'c', 'd', 'e'])\n",
        "print(foo,'\\n')\n",
        "foo.iloc[1] = 200\n",
        "print(foo,'\\n')\n",
        "foo.loc['b'] = 220\n",
        "print(foo,'\\n')\n",
        "\n",
        "foo.iloc[[0, 1, 2]] = 99\n",
        "print(foo,'\\n')\n",
        "foo.loc[['a', 'b', 'c']] = 999\n",
        "print(foo,'\\n')\n",
        "\n",
        "foo.loc['a':'c'] = 9999\n",
        "print(foo,'\\n')"
      ],
      "metadata": {
        "colab": {
          "base_uri": "https://localhost:8080/"
        },
        "id": "BrB225PICmA-",
        "outputId": "9411e061-9b21-4975-c287-fc468a56f7d8"
      },
      "execution_count": 21,
      "outputs": [
        {
          "output_type": "stream",
          "name": "stdout",
          "text": [
            "a    10\n",
            "b    20\n",
            "c    30\n",
            "d    40\n",
            "e    50\n",
            "dtype: int64 \n",
            "\n",
            "a     10\n",
            "b    200\n",
            "c     30\n",
            "d     40\n",
            "e     50\n",
            "dtype: int64 \n",
            "\n",
            "a     10\n",
            "b    220\n",
            "c     30\n",
            "d     40\n",
            "e     50\n",
            "dtype: int64 \n",
            "\n",
            "a    99\n",
            "b    99\n",
            "c    99\n",
            "d    40\n",
            "e    50\n",
            "dtype: int64 \n",
            "\n",
            "a    999\n",
            "b    999\n",
            "c    999\n",
            "d     40\n",
            "e     50\n",
            "dtype: int64 \n",
            "\n",
            "a    9999\n",
            "b    9999\n",
            "c    9999\n",
            "d      40\n",
            "e      50\n",
            "dtype: int64 \n",
            "\n"
          ]
        }
      ]
    }
  ]
}